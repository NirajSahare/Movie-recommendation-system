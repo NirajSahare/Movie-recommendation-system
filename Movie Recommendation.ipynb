{
 "cells": [
  {
   "cell_type": "markdown",
   "id": "0290b959-05ce-4e5c-b311-0198dcf413f6",
   "metadata": {
    "id": "0290b959-05ce-4e5c-b311-0198dcf413f6"
   },
   "source": [
    "# My Next Movie"
   ]
  },
  {
   "cell_type": "code",
   "execution_count": 1,
   "id": "ba4f27c5-5fd2-4038-8a0c-3a1ee0c1bc05",
   "metadata": {
    "id": "ba4f27c5-5fd2-4038-8a0c-3a1ee0c1bc05"
   },
   "outputs": [],
   "source": [
    "import pandas as pd\n",
    "import numpy as np\n",
    "import matplotlib.pyplot as plt\n",
    "import seaborn as sns"
   ]
  },
  {
   "cell_type": "code",
   "execution_count": 2,
   "id": "d2bd80e5-aafd-4a26-805f-d61740596eca",
   "metadata": {},
   "outputs": [],
   "source": [
    "movies = pd.read_csv(\"movies.csv\")"
   ]
  },
  {
   "cell_type": "code",
   "execution_count": 3,
   "id": "c9b65fad-ef1b-4998-a272-fde7f6d2c06a",
   "metadata": {},
   "outputs": [],
   "source": [
    "ratings = pd.read_csv(\"ratings.csv\")"
   ]
  },
  {
   "cell_type": "code",
   "execution_count": 4,
   "id": "8wt9sO9KeA-K",
   "metadata": {
    "colab": {
     "base_uri": "https://localhost:8080/",
     "height": 423
    },
    "id": "8wt9sO9KeA-K",
    "outputId": "f5516226-64c7-4f52-841b-70b065a72bcb"
   },
   "outputs": [
    {
     "data": {
      "text/html": [
       "<div>\n",
       "<style scoped>\n",
       "    .dataframe tbody tr th:only-of-type {\n",
       "        vertical-align: middle;\n",
       "    }\n",
       "\n",
       "    .dataframe tbody tr th {\n",
       "        vertical-align: top;\n",
       "    }\n",
       "\n",
       "    .dataframe thead th {\n",
       "        text-align: right;\n",
       "    }\n",
       "</style>\n",
       "<table border=\"1\" class=\"dataframe\">\n",
       "  <thead>\n",
       "    <tr style=\"text-align: right;\">\n",
       "      <th></th>\n",
       "      <th>movieId</th>\n",
       "      <th>title</th>\n",
       "      <th>genres</th>\n",
       "    </tr>\n",
       "  </thead>\n",
       "  <tbody>\n",
       "    <tr>\n",
       "      <th>0</th>\n",
       "      <td>1</td>\n",
       "      <td>Toy Story (1995)</td>\n",
       "      <td>Adventure|Animation|Children|Comedy|Fantasy</td>\n",
       "    </tr>\n",
       "    <tr>\n",
       "      <th>1</th>\n",
       "      <td>2</td>\n",
       "      <td>Jumanji (1995)</td>\n",
       "      <td>Adventure|Children|Fantasy</td>\n",
       "    </tr>\n",
       "    <tr>\n",
       "      <th>2</th>\n",
       "      <td>3</td>\n",
       "      <td>Grumpier Old Men (1995)</td>\n",
       "      <td>Comedy|Romance</td>\n",
       "    </tr>\n",
       "    <tr>\n",
       "      <th>3</th>\n",
       "      <td>4</td>\n",
       "      <td>Waiting to Exhale (1995)</td>\n",
       "      <td>Comedy|Drama|Romance</td>\n",
       "    </tr>\n",
       "    <tr>\n",
       "      <th>4</th>\n",
       "      <td>5</td>\n",
       "      <td>Father of the Bride Part II (1995)</td>\n",
       "      <td>Comedy</td>\n",
       "    </tr>\n",
       "    <tr>\n",
       "      <th>...</th>\n",
       "      <td>...</td>\n",
       "      <td>...</td>\n",
       "      <td>...</td>\n",
       "    </tr>\n",
       "    <tr>\n",
       "      <th>10324</th>\n",
       "      <td>146684</td>\n",
       "      <td>Cosmic Scrat-tastrophe (2015)</td>\n",
       "      <td>Animation|Children|Comedy</td>\n",
       "    </tr>\n",
       "    <tr>\n",
       "      <th>10325</th>\n",
       "      <td>146878</td>\n",
       "      <td>Le Grand Restaurant (1966)</td>\n",
       "      <td>Comedy</td>\n",
       "    </tr>\n",
       "    <tr>\n",
       "      <th>10326</th>\n",
       "      <td>148238</td>\n",
       "      <td>A Very Murray Christmas (2015)</td>\n",
       "      <td>Comedy</td>\n",
       "    </tr>\n",
       "    <tr>\n",
       "      <th>10327</th>\n",
       "      <td>148626</td>\n",
       "      <td>The Big Short (2015)</td>\n",
       "      <td>Drama</td>\n",
       "    </tr>\n",
       "    <tr>\n",
       "      <th>10328</th>\n",
       "      <td>149532</td>\n",
       "      <td>Marco Polo: One Hundred Eyes (2015)</td>\n",
       "      <td>(no genres listed)</td>\n",
       "    </tr>\n",
       "  </tbody>\n",
       "</table>\n",
       "<p>10329 rows × 3 columns</p>\n",
       "</div>"
      ],
      "text/plain": [
       "       movieId                                title  \\\n",
       "0            1                     Toy Story (1995)   \n",
       "1            2                       Jumanji (1995)   \n",
       "2            3              Grumpier Old Men (1995)   \n",
       "3            4             Waiting to Exhale (1995)   \n",
       "4            5   Father of the Bride Part II (1995)   \n",
       "...        ...                                  ...   \n",
       "10324   146684        Cosmic Scrat-tastrophe (2015)   \n",
       "10325   146878           Le Grand Restaurant (1966)   \n",
       "10326   148238       A Very Murray Christmas (2015)   \n",
       "10327   148626                 The Big Short (2015)   \n",
       "10328   149532  Marco Polo: One Hundred Eyes (2015)   \n",
       "\n",
       "                                            genres  \n",
       "0      Adventure|Animation|Children|Comedy|Fantasy  \n",
       "1                       Adventure|Children|Fantasy  \n",
       "2                                   Comedy|Romance  \n",
       "3                             Comedy|Drama|Romance  \n",
       "4                                           Comedy  \n",
       "...                                            ...  \n",
       "10324                    Animation|Children|Comedy  \n",
       "10325                                       Comedy  \n",
       "10326                                       Comedy  \n",
       "10327                                        Drama  \n",
       "10328                           (no genres listed)  \n",
       "\n",
       "[10329 rows x 3 columns]"
      ]
     },
     "execution_count": 4,
     "metadata": {},
     "output_type": "execute_result"
    }
   ],
   "source": [
    "movies"
   ]
  },
  {
   "cell_type": "code",
   "execution_count": 5,
   "id": "LWk9C1lXeBBi",
   "metadata": {
    "colab": {
     "base_uri": "https://localhost:8080/",
     "height": 423
    },
    "id": "LWk9C1lXeBBi",
    "outputId": "9b0305ee-54dc-433e-d30f-8a3c34b3a5ce"
   },
   "outputs": [
    {
     "data": {
      "text/html": [
       "<div>\n",
       "<style scoped>\n",
       "    .dataframe tbody tr th:only-of-type {\n",
       "        vertical-align: middle;\n",
       "    }\n",
       "\n",
       "    .dataframe tbody tr th {\n",
       "        vertical-align: top;\n",
       "    }\n",
       "\n",
       "    .dataframe thead th {\n",
       "        text-align: right;\n",
       "    }\n",
       "</style>\n",
       "<table border=\"1\" class=\"dataframe\">\n",
       "  <thead>\n",
       "    <tr style=\"text-align: right;\">\n",
       "      <th></th>\n",
       "      <th>userId</th>\n",
       "      <th>movieId</th>\n",
       "      <th>rating</th>\n",
       "      <th>timestamp</th>\n",
       "    </tr>\n",
       "  </thead>\n",
       "  <tbody>\n",
       "    <tr>\n",
       "      <th>0</th>\n",
       "      <td>1</td>\n",
       "      <td>16</td>\n",
       "      <td>4.0</td>\n",
       "      <td>1217897793</td>\n",
       "    </tr>\n",
       "    <tr>\n",
       "      <th>1</th>\n",
       "      <td>1</td>\n",
       "      <td>24</td>\n",
       "      <td>1.5</td>\n",
       "      <td>1217895807</td>\n",
       "    </tr>\n",
       "    <tr>\n",
       "      <th>2</th>\n",
       "      <td>1</td>\n",
       "      <td>32</td>\n",
       "      <td>4.0</td>\n",
       "      <td>1217896246</td>\n",
       "    </tr>\n",
       "    <tr>\n",
       "      <th>3</th>\n",
       "      <td>1</td>\n",
       "      <td>47</td>\n",
       "      <td>4.0</td>\n",
       "      <td>1217896556</td>\n",
       "    </tr>\n",
       "    <tr>\n",
       "      <th>4</th>\n",
       "      <td>1</td>\n",
       "      <td>50</td>\n",
       "      <td>4.0</td>\n",
       "      <td>1217896523</td>\n",
       "    </tr>\n",
       "    <tr>\n",
       "      <th>...</th>\n",
       "      <td>...</td>\n",
       "      <td>...</td>\n",
       "      <td>...</td>\n",
       "      <td>...</td>\n",
       "    </tr>\n",
       "    <tr>\n",
       "      <th>105334</th>\n",
       "      <td>668</td>\n",
       "      <td>142488</td>\n",
       "      <td>4.0</td>\n",
       "      <td>1451535844</td>\n",
       "    </tr>\n",
       "    <tr>\n",
       "      <th>105335</th>\n",
       "      <td>668</td>\n",
       "      <td>142507</td>\n",
       "      <td>3.5</td>\n",
       "      <td>1451535889</td>\n",
       "    </tr>\n",
       "    <tr>\n",
       "      <th>105336</th>\n",
       "      <td>668</td>\n",
       "      <td>143385</td>\n",
       "      <td>4.0</td>\n",
       "      <td>1446388585</td>\n",
       "    </tr>\n",
       "    <tr>\n",
       "      <th>105337</th>\n",
       "      <td>668</td>\n",
       "      <td>144976</td>\n",
       "      <td>2.5</td>\n",
       "      <td>1448656898</td>\n",
       "    </tr>\n",
       "    <tr>\n",
       "      <th>105338</th>\n",
       "      <td>668</td>\n",
       "      <td>148626</td>\n",
       "      <td>4.5</td>\n",
       "      <td>1451148148</td>\n",
       "    </tr>\n",
       "  </tbody>\n",
       "</table>\n",
       "<p>105339 rows × 4 columns</p>\n",
       "</div>"
      ],
      "text/plain": [
       "        userId  movieId  rating   timestamp\n",
       "0            1       16     4.0  1217897793\n",
       "1            1       24     1.5  1217895807\n",
       "2            1       32     4.0  1217896246\n",
       "3            1       47     4.0  1217896556\n",
       "4            1       50     4.0  1217896523\n",
       "...        ...      ...     ...         ...\n",
       "105334     668   142488     4.0  1451535844\n",
       "105335     668   142507     3.5  1451535889\n",
       "105336     668   143385     4.0  1446388585\n",
       "105337     668   144976     2.5  1448656898\n",
       "105338     668   148626     4.5  1451148148\n",
       "\n",
       "[105339 rows x 4 columns]"
      ]
     },
     "execution_count": 5,
     "metadata": {},
     "output_type": "execute_result"
    }
   ],
   "source": [
    "ratings"
   ]
  },
  {
   "cell_type": "markdown",
   "id": "Crup2rPv7gOr",
   "metadata": {
    "id": "Crup2rPv7gOr"
   },
   "source": [
    "## Exploratory Data Analysis"
   ]
  },
  {
   "cell_type": "code",
   "execution_count": 6,
   "id": "df36aa75-ba2a-4da6-a6e6-d23511544955",
   "metadata": {
    "id": "df36aa75-ba2a-4da6-a6e6-d23511544955"
   },
   "outputs": [],
   "source": [
    "# combining the above dataframes\n",
    "\n",
    "merged_df = ratings.merge(movies, on = 'movieId')\n"
   ]
  },
  {
   "cell_type": "code",
   "execution_count": 7,
   "id": "7b03c946-e526-42c1-a786-168752c1212d",
   "metadata": {
    "colab": {
     "base_uri": "https://localhost:8080/",
     "height": 423
    },
    "id": "7b03c946-e526-42c1-a786-168752c1212d",
    "outputId": "306ebfb1-4e6a-4817-8269-71f98ca0cb19"
   },
   "outputs": [
    {
     "data": {
      "text/html": [
       "<div>\n",
       "<style scoped>\n",
       "    .dataframe tbody tr th:only-of-type {\n",
       "        vertical-align: middle;\n",
       "    }\n",
       "\n",
       "    .dataframe tbody tr th {\n",
       "        vertical-align: top;\n",
       "    }\n",
       "\n",
       "    .dataframe thead th {\n",
       "        text-align: right;\n",
       "    }\n",
       "</style>\n",
       "<table border=\"1\" class=\"dataframe\">\n",
       "  <thead>\n",
       "    <tr style=\"text-align: right;\">\n",
       "      <th></th>\n",
       "      <th>userId</th>\n",
       "      <th>movieId</th>\n",
       "      <th>rating</th>\n",
       "      <th>timestamp</th>\n",
       "      <th>title</th>\n",
       "      <th>genres</th>\n",
       "    </tr>\n",
       "  </thead>\n",
       "  <tbody>\n",
       "    <tr>\n",
       "      <th>0</th>\n",
       "      <td>1</td>\n",
       "      <td>16</td>\n",
       "      <td>4.0</td>\n",
       "      <td>1217897793</td>\n",
       "      <td>Casino (1995)</td>\n",
       "      <td>Crime|Drama</td>\n",
       "    </tr>\n",
       "    <tr>\n",
       "      <th>1</th>\n",
       "      <td>9</td>\n",
       "      <td>16</td>\n",
       "      <td>4.0</td>\n",
       "      <td>842686699</td>\n",
       "      <td>Casino (1995)</td>\n",
       "      <td>Crime|Drama</td>\n",
       "    </tr>\n",
       "    <tr>\n",
       "      <th>2</th>\n",
       "      <td>12</td>\n",
       "      <td>16</td>\n",
       "      <td>1.5</td>\n",
       "      <td>1144396284</td>\n",
       "      <td>Casino (1995)</td>\n",
       "      <td>Crime|Drama</td>\n",
       "    </tr>\n",
       "    <tr>\n",
       "      <th>3</th>\n",
       "      <td>24</td>\n",
       "      <td>16</td>\n",
       "      <td>4.0</td>\n",
       "      <td>963468757</td>\n",
       "      <td>Casino (1995)</td>\n",
       "      <td>Crime|Drama</td>\n",
       "    </tr>\n",
       "    <tr>\n",
       "      <th>4</th>\n",
       "      <td>29</td>\n",
       "      <td>16</td>\n",
       "      <td>3.0</td>\n",
       "      <td>836820223</td>\n",
       "      <td>Casino (1995)</td>\n",
       "      <td>Crime|Drama</td>\n",
       "    </tr>\n",
       "    <tr>\n",
       "      <th>...</th>\n",
       "      <td>...</td>\n",
       "      <td>...</td>\n",
       "      <td>...</td>\n",
       "      <td>...</td>\n",
       "      <td>...</td>\n",
       "      <td>...</td>\n",
       "    </tr>\n",
       "    <tr>\n",
       "      <th>105334</th>\n",
       "      <td>668</td>\n",
       "      <td>140098</td>\n",
       "      <td>2.5</td>\n",
       "      <td>1450415424</td>\n",
       "      <td>Runoff (2015)</td>\n",
       "      <td>Drama</td>\n",
       "    </tr>\n",
       "    <tr>\n",
       "      <th>105335</th>\n",
       "      <td>668</td>\n",
       "      <td>140816</td>\n",
       "      <td>2.5</td>\n",
       "      <td>1443288791</td>\n",
       "      <td>Tangerine (2015)</td>\n",
       "      <td>Comedy|Drama</td>\n",
       "    </tr>\n",
       "    <tr>\n",
       "      <th>105336</th>\n",
       "      <td>668</td>\n",
       "      <td>141472</td>\n",
       "      <td>2.5</td>\n",
       "      <td>1442679119</td>\n",
       "      <td>The 50 Year Argument (2014)</td>\n",
       "      <td>(no genres listed)</td>\n",
       "    </tr>\n",
       "    <tr>\n",
       "      <th>105337</th>\n",
       "      <td>668</td>\n",
       "      <td>142488</td>\n",
       "      <td>4.0</td>\n",
       "      <td>1451535844</td>\n",
       "      <td>Spotlight (2015)</td>\n",
       "      <td>Thriller</td>\n",
       "    </tr>\n",
       "    <tr>\n",
       "      <th>105338</th>\n",
       "      <td>668</td>\n",
       "      <td>142507</td>\n",
       "      <td>3.5</td>\n",
       "      <td>1451535889</td>\n",
       "      <td>Pawn Sacrifice (2015)</td>\n",
       "      <td>Drama</td>\n",
       "    </tr>\n",
       "  </tbody>\n",
       "</table>\n",
       "<p>105339 rows × 6 columns</p>\n",
       "</div>"
      ],
      "text/plain": [
       "        userId  movieId  rating   timestamp                        title  \\\n",
       "0            1       16     4.0  1217897793                Casino (1995)   \n",
       "1            9       16     4.0   842686699                Casino (1995)   \n",
       "2           12       16     1.5  1144396284                Casino (1995)   \n",
       "3           24       16     4.0   963468757                Casino (1995)   \n",
       "4           29       16     3.0   836820223                Casino (1995)   \n",
       "...        ...      ...     ...         ...                          ...   \n",
       "105334     668   140098     2.5  1450415424                Runoff (2015)   \n",
       "105335     668   140816     2.5  1443288791             Tangerine (2015)   \n",
       "105336     668   141472     2.5  1442679119  The 50 Year Argument (2014)   \n",
       "105337     668   142488     4.0  1451535844             Spotlight (2015)   \n",
       "105338     668   142507     3.5  1451535889        Pawn Sacrifice (2015)   \n",
       "\n",
       "                    genres  \n",
       "0              Crime|Drama  \n",
       "1              Crime|Drama  \n",
       "2              Crime|Drama  \n",
       "3              Crime|Drama  \n",
       "4              Crime|Drama  \n",
       "...                    ...  \n",
       "105334               Drama  \n",
       "105335        Comedy|Drama  \n",
       "105336  (no genres listed)  \n",
       "105337            Thriller  \n",
       "105338               Drama  \n",
       "\n",
       "[105339 rows x 6 columns]"
      ]
     },
     "execution_count": 7,
     "metadata": {},
     "output_type": "execute_result"
    }
   ],
   "source": [
    "merged_df"
   ]
  },
  {
   "cell_type": "code",
   "execution_count": 8,
   "id": "e3646fdc-af8c-4229-b784-69900de442c1",
   "metadata": {
    "id": "e3646fdc-af8c-4229-b784-69900de442c1"
   },
   "outputs": [],
   "source": [
    "new_df = merged_df[['userId','movieId','title','genres','rating']]"
   ]
  },
  {
   "cell_type": "code",
   "execution_count": 9,
   "id": "1e01def9-c590-4123-ad0e-c065a6632327",
   "metadata": {
    "colab": {
     "base_uri": "https://localhost:8080/",
     "height": 423
    },
    "id": "1e01def9-c590-4123-ad0e-c065a6632327",
    "outputId": "bb7faa0b-0b8b-46c8-dece-cf328504479e"
   },
   "outputs": [
    {
     "data": {
      "text/html": [
       "<div>\n",
       "<style scoped>\n",
       "    .dataframe tbody tr th:only-of-type {\n",
       "        vertical-align: middle;\n",
       "    }\n",
       "\n",
       "    .dataframe tbody tr th {\n",
       "        vertical-align: top;\n",
       "    }\n",
       "\n",
       "    .dataframe thead th {\n",
       "        text-align: right;\n",
       "    }\n",
       "</style>\n",
       "<table border=\"1\" class=\"dataframe\">\n",
       "  <thead>\n",
       "    <tr style=\"text-align: right;\">\n",
       "      <th></th>\n",
       "      <th>userId</th>\n",
       "      <th>movieId</th>\n",
       "      <th>title</th>\n",
       "      <th>genres</th>\n",
       "      <th>rating</th>\n",
       "    </tr>\n",
       "  </thead>\n",
       "  <tbody>\n",
       "    <tr>\n",
       "      <th>0</th>\n",
       "      <td>1</td>\n",
       "      <td>16</td>\n",
       "      <td>Casino (1995)</td>\n",
       "      <td>Crime|Drama</td>\n",
       "      <td>4.0</td>\n",
       "    </tr>\n",
       "    <tr>\n",
       "      <th>1</th>\n",
       "      <td>9</td>\n",
       "      <td>16</td>\n",
       "      <td>Casino (1995)</td>\n",
       "      <td>Crime|Drama</td>\n",
       "      <td>4.0</td>\n",
       "    </tr>\n",
       "    <tr>\n",
       "      <th>2</th>\n",
       "      <td>12</td>\n",
       "      <td>16</td>\n",
       "      <td>Casino (1995)</td>\n",
       "      <td>Crime|Drama</td>\n",
       "      <td>1.5</td>\n",
       "    </tr>\n",
       "    <tr>\n",
       "      <th>3</th>\n",
       "      <td>24</td>\n",
       "      <td>16</td>\n",
       "      <td>Casino (1995)</td>\n",
       "      <td>Crime|Drama</td>\n",
       "      <td>4.0</td>\n",
       "    </tr>\n",
       "    <tr>\n",
       "      <th>4</th>\n",
       "      <td>29</td>\n",
       "      <td>16</td>\n",
       "      <td>Casino (1995)</td>\n",
       "      <td>Crime|Drama</td>\n",
       "      <td>3.0</td>\n",
       "    </tr>\n",
       "    <tr>\n",
       "      <th>...</th>\n",
       "      <td>...</td>\n",
       "      <td>...</td>\n",
       "      <td>...</td>\n",
       "      <td>...</td>\n",
       "      <td>...</td>\n",
       "    </tr>\n",
       "    <tr>\n",
       "      <th>105334</th>\n",
       "      <td>668</td>\n",
       "      <td>140098</td>\n",
       "      <td>Runoff (2015)</td>\n",
       "      <td>Drama</td>\n",
       "      <td>2.5</td>\n",
       "    </tr>\n",
       "    <tr>\n",
       "      <th>105335</th>\n",
       "      <td>668</td>\n",
       "      <td>140816</td>\n",
       "      <td>Tangerine (2015)</td>\n",
       "      <td>Comedy|Drama</td>\n",
       "      <td>2.5</td>\n",
       "    </tr>\n",
       "    <tr>\n",
       "      <th>105336</th>\n",
       "      <td>668</td>\n",
       "      <td>141472</td>\n",
       "      <td>The 50 Year Argument (2014)</td>\n",
       "      <td>(no genres listed)</td>\n",
       "      <td>2.5</td>\n",
       "    </tr>\n",
       "    <tr>\n",
       "      <th>105337</th>\n",
       "      <td>668</td>\n",
       "      <td>142488</td>\n",
       "      <td>Spotlight (2015)</td>\n",
       "      <td>Thriller</td>\n",
       "      <td>4.0</td>\n",
       "    </tr>\n",
       "    <tr>\n",
       "      <th>105338</th>\n",
       "      <td>668</td>\n",
       "      <td>142507</td>\n",
       "      <td>Pawn Sacrifice (2015)</td>\n",
       "      <td>Drama</td>\n",
       "      <td>3.5</td>\n",
       "    </tr>\n",
       "  </tbody>\n",
       "</table>\n",
       "<p>105339 rows × 5 columns</p>\n",
       "</div>"
      ],
      "text/plain": [
       "        userId  movieId                        title              genres  \\\n",
       "0            1       16                Casino (1995)         Crime|Drama   \n",
       "1            9       16                Casino (1995)         Crime|Drama   \n",
       "2           12       16                Casino (1995)         Crime|Drama   \n",
       "3           24       16                Casino (1995)         Crime|Drama   \n",
       "4           29       16                Casino (1995)         Crime|Drama   \n",
       "...        ...      ...                          ...                 ...   \n",
       "105334     668   140098                Runoff (2015)               Drama   \n",
       "105335     668   140816             Tangerine (2015)        Comedy|Drama   \n",
       "105336     668   141472  The 50 Year Argument (2014)  (no genres listed)   \n",
       "105337     668   142488             Spotlight (2015)            Thriller   \n",
       "105338     668   142507        Pawn Sacrifice (2015)               Drama   \n",
       "\n",
       "        rating  \n",
       "0          4.0  \n",
       "1          4.0  \n",
       "2          1.5  \n",
       "3          4.0  \n",
       "4          3.0  \n",
       "...        ...  \n",
       "105334     2.5  \n",
       "105335     2.5  \n",
       "105336     2.5  \n",
       "105337     4.0  \n",
       "105338     3.5  \n",
       "\n",
       "[105339 rows x 5 columns]"
      ]
     },
     "execution_count": 9,
     "metadata": {},
     "output_type": "execute_result"
    }
   ],
   "source": [
    "new_df"
   ]
  },
  {
   "cell_type": "code",
   "execution_count": 10,
   "id": "802b99cc-e446-4eea-b2ff-ee2c17b406e1",
   "metadata": {},
   "outputs": [
    {
     "data": {
      "text/plain": [
       "(105339,)"
      ]
     },
     "execution_count": 10,
     "metadata": {},
     "output_type": "execute_result"
    }
   ],
   "source": [
    "new_df['genres'].shape"
   ]
  },
  {
   "cell_type": "markdown",
   "id": "d1082239-166a-4675-a812-44cae999875d",
   "metadata": {},
   "source": [
    "### Finding unique UserIds and Movies"
   ]
  },
  {
   "cell_type": "code",
   "execution_count": 11,
   "id": "9d32e5e1-d3be-4c88-9471-06a1e0b7df99",
   "metadata": {},
   "outputs": [
    {
     "data": {
      "text/plain": [
       "array([  1,   9,  12,  24,  29,  31,  47,  60,  62,  88, 104, 109, 113,\n",
       "       122, 128, 137, 149, 164, 167, 177, 184, 188, 190, 192, 202, 205,\n",
       "       207, 213, 224, 234, 235, 236, 238, 246, 257, 261, 268, 269, 270,\n",
       "       303, 310, 326, 330, 354, 364, 366, 376, 385, 386, 399, 403, 405,\n",
       "       409, 413, 416, 422, 434, 438, 458, 459, 461, 464, 469, 473, 475,\n",
       "       493, 499, 534, 541, 549, 558, 563, 567, 569, 575, 576, 584, 603,\n",
       "       615, 625, 627, 628, 659, 668,  27,  46,  98, 118, 130, 156, 199,\n",
       "       201, 220, 239, 429, 436, 487, 496, 500, 544, 552, 561, 607, 612,\n",
       "       646, 662, 666,   2,   4,   7,   8,  16,  22,  42,  44,  54,  59,\n",
       "        61,  63,  66,  69,  71,  72,  74,  77,  87,  89,  92, 102, 107,\n",
       "       116, 119, 126, 132, 134, 140, 143, 148, 151, 157, 158, 160, 161,\n",
       "       168, 169, 170, 174, 175, 179, 181, 189, 195, 203, 221, 228, 232,\n",
       "       233, 241, 242, 244, 250, 251, 255, 259, 262, 271, 274, 276, 280,\n",
       "       283, 284, 296, 305, 308, 311, 315, 321, 328, 335, 339, 348, 351,\n",
       "       358, 362, 369, 370, 371, 381, 383, 387, 394, 397, 410, 411, 415,\n",
       "       418, 423, 424, 427, 428, 430, 432, 439, 448, 451, 453, 455, 460,\n",
       "       462, 463, 480, 490, 501, 504, 506, 512, 513, 517, 521, 528, 542,\n",
       "       545, 548, 555, 556, 557, 560, 571, 572, 574, 578, 579, 590, 598,\n",
       "       601, 605, 606, 609, 611, 616, 621, 631, 633, 640, 644, 652, 653,\n",
       "       656, 657, 665, 667,  18,  43,  50,  57,  65,  76, 101, 108, 110,\n",
       "       114, 129, 139, 147, 159, 166, 178, 194, 196, 208, 245, 253, 264,\n",
       "       273, 286, 290, 299, 302, 307, 312, 319, 340, 343, 345, 347, 349,\n",
       "       389, 401, 402, 431, 435, 442, 444, 449, 454, 471, 476, 492, 530,\n",
       "       532, 537, 566, 568, 583, 585, 586, 587, 591, 593, 599, 610, 617,\n",
       "       630, 635, 643, 660, 663,   3,  13,  15,  23,  33,  36,  38,  45,\n",
       "        79,  80,  85, 115, 145, 153, 155, 172, 176, 198, 210, 215, 230,\n",
       "       260, 263, 267, 294, 304, 316, 318, 322, 334, 352, 357, 363, 367,\n",
       "       380, 393, 396, 421, 426, 437, 466, 483, 484, 489, 495, 505, 519,\n",
       "       550, 554, 565, 580, 597, 619, 620, 636, 642,   5,  17,  30,  51,\n",
       "        52,  83,  91, 105, 111, 112, 133, 141, 163, 180, 186, 197, 218,\n",
       "       266, 277, 278, 281, 282, 285, 295, 301, 329, 331, 333, 337, 346,\n",
       "       375, 378, 398, 400, 404, 412, 419, 425, 433, 441, 445, 450, 457,\n",
       "       498, 511, 523, 524, 527, 531, 540, 562, 589, 592, 600, 614, 623,\n",
       "       632, 637, 638, 639, 650, 654, 664,  11,  28,  39,  70, 100, 162,\n",
       "       183, 187, 225, 272, 353, 355, 356, 361, 384, 390, 408, 443, 446,\n",
       "       456, 482, 491, 507, 522, 547, 551, 570, 602, 613, 629, 634, 655,\n",
       "        32, 258, 243, 509, 516,  53, 214, 320, 577,  41,  86, 173, 240,\n",
       "       292, 359, 658, 249, 342,  21,  34,  55,  75,  81,  93,  95,  96,\n",
       "        97, 124, 127, 165, 193, 206, 209, 226, 227, 229, 265, 287, 291,\n",
       "       309, 314, 327, 336, 350, 373, 374, 379, 388, 417, 447, 510, 518,\n",
       "       529, 536, 573, 588, 595, 604, 641, 648, 661, 138, 377, 382, 474,\n",
       "        99, 191, 477,  94, 123, 144, 146, 200, 204, 223, 254, 332, 341,\n",
       "       392, 407, 414, 440, 538, 564,  37,  73,  78,  82,  84, 106, 217,\n",
       "       222, 256, 289, 300, 323, 360, 391, 467, 479, 494, 622, 485, 543,\n",
       "        10,  25,  56, 131, 219, 247, 275, 395, 420, 478, 515, 533, 546,\n",
       "       596,  64, 608, 150, 406, 520, 525,   6,  90, 252, 481, 535, 559,\n",
       "       582,  19,  68, 135, 248, 152, 338, 508, 649, 581,  49, 594, 325,\n",
       "        14,  35, 117, 365, 171, 279, 298, 344, 103, 465, 503,  26, 470,\n",
       "       651, 553, 216, 526,  58, 212, 288, 231, 211, 121, 154, 324, 539,\n",
       "       618, 624,  40, 317, 502, 120, 182,  67, 185, 626, 497, 297, 468,\n",
       "       472, 372, 647, 136,  20, 306, 125, 486,  48, 313, 645, 368, 293,\n",
       "       452, 488, 514, 237, 142], dtype=int64)"
      ]
     },
     "execution_count": 11,
     "metadata": {},
     "output_type": "execute_result"
    }
   ],
   "source": [
    "# Unique User Ids\n",
    "new_df['userId'].unique()\n"
   ]
  },
  {
   "cell_type": "code",
   "execution_count": 12,
   "id": "82314da6-1ed4-4c91-8119-ddc9efe8b569",
   "metadata": {},
   "outputs": [
    {
     "data": {
      "text/plain": [
       "668"
      ]
     },
     "execution_count": 12,
     "metadata": {},
     "output_type": "execute_result"
    }
   ],
   "source": [
    "new_df['userId'].nunique()"
   ]
  },
  {
   "cell_type": "code",
   "execution_count": 13,
   "id": "eee1ca57-3a07-4050-984c-02ddf4c4fecf",
   "metadata": {},
   "outputs": [
    {
     "data": {
      "text/plain": [
       "array(['Casino (1995)', 'Powder (1995)',\n",
       "       'Twelve Monkeys (a.k.a. 12 Monkeys) (1995)', ...,\n",
       "       'The 50 Year Argument (2014)', 'Spotlight (2015)',\n",
       "       'Pawn Sacrifice (2015)'], dtype=object)"
      ]
     },
     "execution_count": 13,
     "metadata": {},
     "output_type": "execute_result"
    }
   ],
   "source": [
    "# Unique Movies\n",
    "new_df['title'].unique()"
   ]
  },
  {
   "cell_type": "code",
   "execution_count": 14,
   "id": "2e33a052-d124-41d6-86ea-696544d36bf3",
   "metadata": {},
   "outputs": [
    {
     "data": {
      "text/plain": [
       "10323"
      ]
     },
     "execution_count": 14,
     "metadata": {},
     "output_type": "execute_result"
    }
   ],
   "source": [
    "new_df['title'].nunique()"
   ]
  },
  {
   "cell_type": "markdown",
   "id": "bc3e5cf0-2b36-440f-962f-868a3adef10e",
   "metadata": {},
   "source": [
    "**There are 668 unique users and 10323 unique movies in the given dataset.**"
   ]
  },
  {
   "cell_type": "code",
   "execution_count": 15,
   "id": "7d3a1542-13db-4c21-8ad4-de0249a1f9ed",
   "metadata": {},
   "outputs": [
    {
     "name": "stderr",
     "output_type": "stream",
     "text": [
      "C:\\Users\\LENOVO\\AppData\\Local\\Temp\\ipykernel_4296\\77632958.py:1: SettingWithCopyWarning: \n",
      "A value is trying to be set on a copy of a slice from a DataFrame.\n",
      "Try using .loc[row_indexer,col_indexer] = value instead\n",
      "\n",
      "See the caveats in the documentation: https://pandas.pydata.org/pandas-docs/stable/user_guide/indexing.html#returning-a-view-versus-a-copy\n",
      "  new_df['genres'] = new_df['genres'].str.split(\"|\")\n"
     ]
    }
   ],
   "source": [
    "new_df['genres'] = new_df['genres'].str.split(\"|\")"
   ]
  },
  {
   "cell_type": "code",
   "execution_count": 16,
   "id": "6bb92624-d59a-4965-bae5-f7b2d5acb230",
   "metadata": {},
   "outputs": [
    {
     "data": {
      "text/html": [
       "<div>\n",
       "<style scoped>\n",
       "    .dataframe tbody tr th:only-of-type {\n",
       "        vertical-align: middle;\n",
       "    }\n",
       "\n",
       "    .dataframe tbody tr th {\n",
       "        vertical-align: top;\n",
       "    }\n",
       "\n",
       "    .dataframe thead th {\n",
       "        text-align: right;\n",
       "    }\n",
       "</style>\n",
       "<table border=\"1\" class=\"dataframe\">\n",
       "  <thead>\n",
       "    <tr style=\"text-align: right;\">\n",
       "      <th></th>\n",
       "      <th>userId</th>\n",
       "      <th>movieId</th>\n",
       "      <th>title</th>\n",
       "      <th>genres</th>\n",
       "      <th>rating</th>\n",
       "    </tr>\n",
       "  </thead>\n",
       "  <tbody>\n",
       "    <tr>\n",
       "      <th>0</th>\n",
       "      <td>1</td>\n",
       "      <td>16</td>\n",
       "      <td>Casino (1995)</td>\n",
       "      <td>[Crime, Drama]</td>\n",
       "      <td>4.0</td>\n",
       "    </tr>\n",
       "    <tr>\n",
       "      <th>1</th>\n",
       "      <td>9</td>\n",
       "      <td>16</td>\n",
       "      <td>Casino (1995)</td>\n",
       "      <td>[Crime, Drama]</td>\n",
       "      <td>4.0</td>\n",
       "    </tr>\n",
       "    <tr>\n",
       "      <th>2</th>\n",
       "      <td>12</td>\n",
       "      <td>16</td>\n",
       "      <td>Casino (1995)</td>\n",
       "      <td>[Crime, Drama]</td>\n",
       "      <td>1.5</td>\n",
       "    </tr>\n",
       "    <tr>\n",
       "      <th>3</th>\n",
       "      <td>24</td>\n",
       "      <td>16</td>\n",
       "      <td>Casino (1995)</td>\n",
       "      <td>[Crime, Drama]</td>\n",
       "      <td>4.0</td>\n",
       "    </tr>\n",
       "    <tr>\n",
       "      <th>4</th>\n",
       "      <td>29</td>\n",
       "      <td>16</td>\n",
       "      <td>Casino (1995)</td>\n",
       "      <td>[Crime, Drama]</td>\n",
       "      <td>3.0</td>\n",
       "    </tr>\n",
       "    <tr>\n",
       "      <th>...</th>\n",
       "      <td>...</td>\n",
       "      <td>...</td>\n",
       "      <td>...</td>\n",
       "      <td>...</td>\n",
       "      <td>...</td>\n",
       "    </tr>\n",
       "    <tr>\n",
       "      <th>105334</th>\n",
       "      <td>668</td>\n",
       "      <td>140098</td>\n",
       "      <td>Runoff (2015)</td>\n",
       "      <td>[Drama]</td>\n",
       "      <td>2.5</td>\n",
       "    </tr>\n",
       "    <tr>\n",
       "      <th>105335</th>\n",
       "      <td>668</td>\n",
       "      <td>140816</td>\n",
       "      <td>Tangerine (2015)</td>\n",
       "      <td>[Comedy, Drama]</td>\n",
       "      <td>2.5</td>\n",
       "    </tr>\n",
       "    <tr>\n",
       "      <th>105336</th>\n",
       "      <td>668</td>\n",
       "      <td>141472</td>\n",
       "      <td>The 50 Year Argument (2014)</td>\n",
       "      <td>[(no genres listed)]</td>\n",
       "      <td>2.5</td>\n",
       "    </tr>\n",
       "    <tr>\n",
       "      <th>105337</th>\n",
       "      <td>668</td>\n",
       "      <td>142488</td>\n",
       "      <td>Spotlight (2015)</td>\n",
       "      <td>[Thriller]</td>\n",
       "      <td>4.0</td>\n",
       "    </tr>\n",
       "    <tr>\n",
       "      <th>105338</th>\n",
       "      <td>668</td>\n",
       "      <td>142507</td>\n",
       "      <td>Pawn Sacrifice (2015)</td>\n",
       "      <td>[Drama]</td>\n",
       "      <td>3.5</td>\n",
       "    </tr>\n",
       "  </tbody>\n",
       "</table>\n",
       "<p>105339 rows × 5 columns</p>\n",
       "</div>"
      ],
      "text/plain": [
       "        userId  movieId                        title                genres  \\\n",
       "0            1       16                Casino (1995)        [Crime, Drama]   \n",
       "1            9       16                Casino (1995)        [Crime, Drama]   \n",
       "2           12       16                Casino (1995)        [Crime, Drama]   \n",
       "3           24       16                Casino (1995)        [Crime, Drama]   \n",
       "4           29       16                Casino (1995)        [Crime, Drama]   \n",
       "...        ...      ...                          ...                   ...   \n",
       "105334     668   140098                Runoff (2015)               [Drama]   \n",
       "105335     668   140816             Tangerine (2015)       [Comedy, Drama]   \n",
       "105336     668   141472  The 50 Year Argument (2014)  [(no genres listed)]   \n",
       "105337     668   142488             Spotlight (2015)            [Thriller]   \n",
       "105338     668   142507        Pawn Sacrifice (2015)               [Drama]   \n",
       "\n",
       "        rating  \n",
       "0          4.0  \n",
       "1          4.0  \n",
       "2          1.5  \n",
       "3          4.0  \n",
       "4          3.0  \n",
       "...        ...  \n",
       "105334     2.5  \n",
       "105335     2.5  \n",
       "105336     2.5  \n",
       "105337     4.0  \n",
       "105338     3.5  \n",
       "\n",
       "[105339 rows x 5 columns]"
      ]
     },
     "execution_count": 16,
     "metadata": {},
     "output_type": "execute_result"
    }
   ],
   "source": [
    "new_df"
   ]
  },
  {
   "cell_type": "code",
   "execution_count": 17,
   "id": "9d6bb35a-4a6a-475b-88d0-a78f10fa0fb4",
   "metadata": {
    "colab": {
     "base_uri": "https://localhost:8080/"
    },
    "id": "9d6bb35a-4a6a-475b-88d0-a78f10fa0fb4",
    "outputId": "3f5c439c-e8b5-4439-b040-6b66b701364d"
   },
   "outputs": [
    {
     "name": "stdout",
     "output_type": "stream",
     "text": [
      "<class 'pandas.core.frame.DataFrame'>\n",
      "RangeIndex: 105339 entries, 0 to 105338\n",
      "Data columns (total 5 columns):\n",
      " #   Column   Non-Null Count   Dtype  \n",
      "---  ------   --------------   -----  \n",
      " 0   userId   105339 non-null  int64  \n",
      " 1   movieId  105339 non-null  int64  \n",
      " 2   title    105339 non-null  object \n",
      " 3   genres   105339 non-null  object \n",
      " 4   rating   105339 non-null  float64\n",
      "dtypes: float64(1), int64(2), object(2)\n",
      "memory usage: 4.0+ MB\n"
     ]
    }
   ],
   "source": [
    "# checking the null values\n",
    "new_df.info()"
   ]
  },
  {
   "cell_type": "markdown",
   "id": "XEVYR5WrhI6U",
   "metadata": {
    "id": "XEVYR5WrhI6U"
   },
   "source": [
    "**There are no null values present in the data.**"
   ]
  },
  {
   "cell_type": "code",
   "execution_count": 18,
   "id": "-QbDAgEGStv8",
   "metadata": {
    "colab": {
     "base_uri": "https://localhost:8080/"
    },
    "id": "-QbDAgEGStv8",
    "outputId": "da937e13-3646-47e2-8a88-6e11d92dbfae"
   },
   "outputs": [
    {
     "data": {
      "text/plain": [
       "title\n",
       "Saddest Music in the World, The (2003)    5.0\n",
       "Interstate 60 (2002)                      5.0\n",
       "Gunfighter, The (1950)                    5.0\n",
       "Heima (2007)                              5.0\n",
       "Limelight (1952)                          5.0\n",
       "                                         ... \n",
       "Cold Weather (2010)                       0.5\n",
       "Life During Wartime (2009)                0.5\n",
       "Dark Days (2000)                          0.5\n",
       "Biker Boyz (2003)                         0.5\n",
       "Trog (1970)                               0.5\n",
       "Name: rating, Length: 10323, dtype: float64"
      ]
     },
     "execution_count": 18,
     "metadata": {},
     "output_type": "execute_result"
    }
   ],
   "source": [
    "new_df.groupby('title')['rating'].mean().sort_values( ascending = False)"
   ]
  },
  {
   "cell_type": "markdown",
   "id": "NKjCI-DYTts7",
   "metadata": {
    "id": "NKjCI-DYTts7"
   },
   "source": [
    "**Above code shows the average number of ratings however it doesn't shows the total users who have rated the movie. For this we are going to sort the data based on number of users who have given the ratings for a particular movie.**"
   ]
  },
  {
   "cell_type": "code",
   "execution_count": 19,
   "id": "D9bwnbUj66MP",
   "metadata": {
    "colab": {
     "base_uri": "https://localhost:8080/"
    },
    "id": "D9bwnbUj66MP",
    "outputId": "11385a4f-e9c4-4d9d-a523-ed07a4d2a8e1"
   },
   "outputs": [
    {
     "data": {
      "text/plain": [
       "title\n",
       "Pulp Fiction (1994)                          325\n",
       "Forrest Gump (1994)                          311\n",
       "Shawshank Redemption, The (1994)             308\n",
       "Jurassic Park (1993)                         294\n",
       "Silence of the Lambs, The (1991)             290\n",
       "                                            ... \n",
       "Kind Lady (1935)                               1\n",
       "Killing of Sister George, The (1968)           1\n",
       "Killing Season (2013)                          1\n",
       "Killer Klowns from Outer Space (1988)          1\n",
       "À nous la liberté (Freedom for Us) (1931)      1\n",
       "Name: rating, Length: 10323, dtype: int64"
      ]
     },
     "execution_count": 19,
     "metadata": {},
     "output_type": "execute_result"
    }
   ],
   "source": [
    "new_df.groupby('title')['rating'].count().sort_values(ascending = False)"
   ]
  },
  {
   "cell_type": "markdown",
   "id": "hZhzgiWKUXPl",
   "metadata": {
    "id": "hZhzgiWKUXPl"
   },
   "source": [
    "**Now we have got the number of users who have rated the particular movie.**"
   ]
  },
  {
   "cell_type": "markdown",
   "id": "b13674af-e99c-4575-a3a2-7a70609840b2",
   "metadata": {},
   "source": [
    "### Average Ratings and Total Movies at genre level."
   ]
  },
  {
   "cell_type": "code",
   "execution_count": 20,
   "id": "Tm8XUtJK66j8",
   "metadata": {
    "id": "Tm8XUtJK66j8"
   },
   "outputs": [
    {
     "data": {
      "text/html": [
       "<div>\n",
       "<style scoped>\n",
       "    .dataframe tbody tr th:only-of-type {\n",
       "        vertical-align: middle;\n",
       "    }\n",
       "\n",
       "    .dataframe tbody tr th {\n",
       "        vertical-align: top;\n",
       "    }\n",
       "\n",
       "    .dataframe thead th {\n",
       "        text-align: right;\n",
       "    }\n",
       "</style>\n",
       "<table border=\"1\" class=\"dataframe\">\n",
       "  <thead>\n",
       "    <tr style=\"text-align: right;\">\n",
       "      <th></th>\n",
       "      <th>rating</th>\n",
       "    </tr>\n",
       "    <tr>\n",
       "      <th>title</th>\n",
       "      <th></th>\n",
       "    </tr>\n",
       "  </thead>\n",
       "  <tbody>\n",
       "    <tr>\n",
       "      <th>'71 (2014)</th>\n",
       "      <td>3.500000</td>\n",
       "    </tr>\n",
       "    <tr>\n",
       "      <th>'Hellboy': The Seeds of Creation (2004)</th>\n",
       "      <td>3.000000</td>\n",
       "    </tr>\n",
       "    <tr>\n",
       "      <th>'Round Midnight (1986)</th>\n",
       "      <td>2.500000</td>\n",
       "    </tr>\n",
       "    <tr>\n",
       "      <th>'Til There Was You (1997)</th>\n",
       "      <td>4.000000</td>\n",
       "    </tr>\n",
       "    <tr>\n",
       "      <th>'burbs, The (1989)</th>\n",
       "      <td>3.125000</td>\n",
       "    </tr>\n",
       "    <tr>\n",
       "      <th>...</th>\n",
       "      <td>...</td>\n",
       "    </tr>\n",
       "    <tr>\n",
       "      <th>loudQUIETloud: A Film About the Pixies (2006)</th>\n",
       "      <td>4.500000</td>\n",
       "    </tr>\n",
       "    <tr>\n",
       "      <th>xXx (2002)</th>\n",
       "      <td>2.958333</td>\n",
       "    </tr>\n",
       "    <tr>\n",
       "      <th>xXx: State of the Union (2005)</th>\n",
       "      <td>2.071429</td>\n",
       "    </tr>\n",
       "    <tr>\n",
       "      <th>¡Three Amigos! (1986)</th>\n",
       "      <td>3.012500</td>\n",
       "    </tr>\n",
       "    <tr>\n",
       "      <th>À nous la liberté (Freedom for Us) (1931)</th>\n",
       "      <td>3.000000</td>\n",
       "    </tr>\n",
       "  </tbody>\n",
       "</table>\n",
       "<p>10323 rows × 1 columns</p>\n",
       "</div>"
      ],
      "text/plain": [
       "                                                 rating\n",
       "title                                                  \n",
       "'71 (2014)                                     3.500000\n",
       "'Hellboy': The Seeds of Creation (2004)        3.000000\n",
       "'Round Midnight (1986)                         2.500000\n",
       "'Til There Was You (1997)                      4.000000\n",
       "'burbs, The (1989)                             3.125000\n",
       "...                                                 ...\n",
       "loudQUIETloud: A Film About the Pixies (2006)  4.500000\n",
       "xXx (2002)                                     2.958333\n",
       "xXx: State of the Union (2005)                 2.071429\n",
       "¡Three Amigos! (1986)                          3.012500\n",
       "À nous la liberté (Freedom for Us) (1931)      3.000000\n",
       "\n",
       "[10323 rows x 1 columns]"
      ]
     },
     "execution_count": 20,
     "metadata": {},
     "output_type": "execute_result"
    }
   ],
   "source": [
    "Avg_Rating = pd.DataFrame(new_df.groupby('title')['rating'].mean())\n",
    "Avg_Rating"
   ]
  },
  {
   "cell_type": "code",
   "execution_count": 21,
   "id": "qsj1MlWU662O",
   "metadata": {
    "id": "qsj1MlWU662O"
   },
   "outputs": [
    {
     "data": {
      "text/html": [
       "<div>\n",
       "<style scoped>\n",
       "    .dataframe tbody tr th:only-of-type {\n",
       "        vertical-align: middle;\n",
       "    }\n",
       "\n",
       "    .dataframe tbody tr th {\n",
       "        vertical-align: top;\n",
       "    }\n",
       "\n",
       "    .dataframe thead th {\n",
       "        text-align: right;\n",
       "    }\n",
       "</style>\n",
       "<table border=\"1\" class=\"dataframe\">\n",
       "  <thead>\n",
       "    <tr style=\"text-align: right;\">\n",
       "      <th></th>\n",
       "      <th>rating</th>\n",
       "      <th>ratingCount</th>\n",
       "    </tr>\n",
       "    <tr>\n",
       "      <th>title</th>\n",
       "      <th></th>\n",
       "      <th></th>\n",
       "    </tr>\n",
       "  </thead>\n",
       "  <tbody>\n",
       "    <tr>\n",
       "      <th>'71 (2014)</th>\n",
       "      <td>3.500000</td>\n",
       "      <td>1</td>\n",
       "    </tr>\n",
       "    <tr>\n",
       "      <th>'Hellboy': The Seeds of Creation (2004)</th>\n",
       "      <td>3.000000</td>\n",
       "      <td>1</td>\n",
       "    </tr>\n",
       "    <tr>\n",
       "      <th>'Round Midnight (1986)</th>\n",
       "      <td>2.500000</td>\n",
       "      <td>1</td>\n",
       "    </tr>\n",
       "    <tr>\n",
       "      <th>'Til There Was You (1997)</th>\n",
       "      <td>4.000000</td>\n",
       "      <td>3</td>\n",
       "    </tr>\n",
       "    <tr>\n",
       "      <th>'burbs, The (1989)</th>\n",
       "      <td>3.125000</td>\n",
       "      <td>20</td>\n",
       "    </tr>\n",
       "    <tr>\n",
       "      <th>...</th>\n",
       "      <td>...</td>\n",
       "      <td>...</td>\n",
       "    </tr>\n",
       "    <tr>\n",
       "      <th>loudQUIETloud: A Film About the Pixies (2006)</th>\n",
       "      <td>4.500000</td>\n",
       "      <td>1</td>\n",
       "    </tr>\n",
       "    <tr>\n",
       "      <th>xXx (2002)</th>\n",
       "      <td>2.958333</td>\n",
       "      <td>24</td>\n",
       "    </tr>\n",
       "    <tr>\n",
       "      <th>xXx: State of the Union (2005)</th>\n",
       "      <td>2.071429</td>\n",
       "      <td>7</td>\n",
       "    </tr>\n",
       "    <tr>\n",
       "      <th>¡Three Amigos! (1986)</th>\n",
       "      <td>3.012500</td>\n",
       "      <td>40</td>\n",
       "    </tr>\n",
       "    <tr>\n",
       "      <th>À nous la liberté (Freedom for Us) (1931)</th>\n",
       "      <td>3.000000</td>\n",
       "      <td>1</td>\n",
       "    </tr>\n",
       "  </tbody>\n",
       "</table>\n",
       "<p>10323 rows × 2 columns</p>\n",
       "</div>"
      ],
      "text/plain": [
       "                                                 rating  ratingCount\n",
       "title                                                               \n",
       "'71 (2014)                                     3.500000            1\n",
       "'Hellboy': The Seeds of Creation (2004)        3.000000            1\n",
       "'Round Midnight (1986)                         2.500000            1\n",
       "'Til There Was You (1997)                      4.000000            3\n",
       "'burbs, The (1989)                             3.125000           20\n",
       "...                                                 ...          ...\n",
       "loudQUIETloud: A Film About the Pixies (2006)  4.500000            1\n",
       "xXx (2002)                                     2.958333           24\n",
       "xXx: State of the Union (2005)                 2.071429            7\n",
       "¡Three Amigos! (1986)                          3.012500           40\n",
       "À nous la liberté (Freedom for Us) (1931)      3.000000            1\n",
       "\n",
       "[10323 rows x 2 columns]"
      ]
     },
     "execution_count": 21,
     "metadata": {},
     "output_type": "execute_result"
    }
   ],
   "source": [
    "Avg_Rating['ratingCount'] = pd.DataFrame(new_df.groupby('title')['rating'].count())\n",
    "Avg_Rating"
   ]
  },
  {
   "cell_type": "code",
   "execution_count": 22,
   "id": "DSAo-ZuIVtHQ",
   "metadata": {
    "colab": {
     "base_uri": "https://localhost:8080/",
     "height": 385
    },
    "id": "DSAo-ZuIVtHQ",
    "outputId": "75d6be2e-3f45-4b34-e19d-88ec030f7e4a"
   },
   "outputs": [
    {
     "data": {
      "image/png": "[encoded data removed]",
      "text/plain": [
       "<Figure size 800x400 with 1 Axes>"
      ]
     },
     "metadata": {},
     "output_type": "display_data"
    }
   ],
   "source": [
    "plt.figure(figsize = (8,4))\n",
    "Avg_Rating['rating'].hist(bins = 50)\n",
    "plt.title(\"Distribution of ratings\")\n",
    "plt.show()"
   ]
  },
  {
   "cell_type": "code",
   "execution_count": 23,
   "id": "ac12c975-4215-46cc-b807-cecfb5bc5eab",
   "metadata": {},
   "outputs": [
    {
     "data": {
      "image/png": "[encoded data removed]",
      "text/plain": [
       "<Figure size 640x480 with 1 Axes>"
      ]
     },
     "metadata": {},
     "output_type": "display_data"
    }
   ],
   "source": [
    "sns.countplot(x = 'rating', data = new_df)\n",
    "plt.title(\"Distribution of ratings\", fontsize = 14)\n",
    "plt.show()"
   ]
  },
  {
   "cell_type": "markdown",
   "id": "OmPJFwhyXp8w",
   "metadata": {
    "id": "OmPJFwhyXp8w"
   },
   "source": [
    "**From the above histogram and the bar plot it can be seen that maximum number of ratings given by the user are in between 3 and 4. Also there are few outliers, apart from those the average rating column is following normal distribution.**"
   ]
  },
  {
   "cell_type": "code",
   "execution_count": 24,
   "id": "mlG9WhI_VtKn",
   "metadata": {
    "colab": {
     "base_uri": "https://localhost:8080/",
     "height": 624
    },
    "id": "mlG9WhI_VtKn",
    "outputId": "0d629e47-3e1b-4605-aa29-683a989a4f26"
   },
   "outputs": [
    {
     "data": {
      "image/png": "[encoded data removed]",
      "text/plain": [
       "<Figure size 600x600 with 3 Axes>"
      ]
     },
     "metadata": {},
     "output_type": "display_data"
    }
   ],
   "source": [
    "sns.jointplot(x ='rating', y = 'ratingCount', data = Avg_Rating , alpha = 0.5)\n",
    "plt.show()"
   ]
  },
  {
   "cell_type": "markdown",
   "id": "MSnqXMBdf3ZZ",
   "metadata": {
    "id": "MSnqXMBdf3ZZ"
   },
   "source": [
    "**Jointplot helps you to give the scatter plot along with the distribution based on histogram. With respect to number of ratings wherever the points are dense are the points representing the maximum number of ratings.**"
   ]
  },
  {
   "cell_type": "markdown",
   "id": "19f93ef4-db69-4242-a1ce-931827ec1611",
   "metadata": {},
   "source": [
    "#### Total movies at genre level along with unique genres considered."
   ]
  },
  {
   "cell_type": "code",
   "execution_count": 25,
   "id": "73aff75c-a5fb-4696-9208-0afe4504327e",
   "metadata": {},
   "outputs": [
    {
     "name": "stderr",
     "output_type": "stream",
     "text": [
      "C:\\Users\\LENOVO\\AppData\\Local\\Temp\\ipykernel_4296\\3036913963.py:1: SettingWithCopyWarning: \n",
      "A value is trying to be set on a copy of a slice from a DataFrame.\n",
      "Try using .loc[row_indexer,col_indexer] = value instead\n",
      "\n",
      "See the caveats in the documentation: https://pandas.pydata.org/pandas-docs/stable/user_guide/indexing.html#returning-a-view-versus-a-copy\n",
      "  new_df['title'] = new_df['title'].str.split('(', n=1).str[0].str.strip()\n"
     ]
    }
   ],
   "source": [
    "new_df['title'] = new_df['title'].str.split('(', n=1).str[0].str.strip()\n"
   ]
  },
  {
   "cell_type": "code",
   "execution_count": 26,
   "id": "0b60f4f2-1383-43ff-8e50-a3635f0e7ff0",
   "metadata": {},
   "outputs": [
    {
     "name": "stderr",
     "output_type": "stream",
     "text": [
      "C:\\Users\\LENOVO\\AppData\\Local\\Temp\\ipykernel_4296\\3110895115.py:1: SettingWithCopyWarning: \n",
      "A value is trying to be set on a copy of a slice from a DataFrame\n",
      "\n",
      "See the caveats in the documentation: https://pandas.pydata.org/pandas-docs/stable/user_guide/indexing.html#returning-a-view-versus-a-copy\n",
      "  new_df.rename(columns = {\"title\":\"Movie_Title\"}, inplace = True)\n"
     ]
    }
   ],
   "source": [
    "new_df.rename(columns = {\"title\":\"Movie_Title\"}, inplace = True)"
   ]
  },
  {
   "cell_type": "code",
   "execution_count": 27,
   "id": "50fdfdd6-f650-415e-8a74-19a3184e73dc",
   "metadata": {},
   "outputs": [
    {
     "data": {
      "text/html": [
       "<div>\n",
       "<style scoped>\n",
       "    .dataframe tbody tr th:only-of-type {\n",
       "        vertical-align: middle;\n",
       "    }\n",
       "\n",
       "    .dataframe tbody tr th {\n",
       "        vertical-align: top;\n",
       "    }\n",
       "\n",
       "    .dataframe thead th {\n",
       "        text-align: right;\n",
       "    }\n",
       "</style>\n",
       "<table border=\"1\" class=\"dataframe\">\n",
       "  <thead>\n",
       "    <tr style=\"text-align: right;\">\n",
       "      <th></th>\n",
       "      <th>userId</th>\n",
       "      <th>movieId</th>\n",
       "      <th>Movie_Title</th>\n",
       "      <th>genres</th>\n",
       "      <th>rating</th>\n",
       "    </tr>\n",
       "  </thead>\n",
       "  <tbody>\n",
       "    <tr>\n",
       "      <th>0</th>\n",
       "      <td>1</td>\n",
       "      <td>16</td>\n",
       "      <td>Casino</td>\n",
       "      <td>Crime</td>\n",
       "      <td>4.0</td>\n",
       "    </tr>\n",
       "    <tr>\n",
       "      <th>0</th>\n",
       "      <td>1</td>\n",
       "      <td>16</td>\n",
       "      <td>Casino</td>\n",
       "      <td>Drama</td>\n",
       "      <td>4.0</td>\n",
       "    </tr>\n",
       "    <tr>\n",
       "      <th>1</th>\n",
       "      <td>9</td>\n",
       "      <td>16</td>\n",
       "      <td>Casino</td>\n",
       "      <td>Crime</td>\n",
       "      <td>4.0</td>\n",
       "    </tr>\n",
       "    <tr>\n",
       "      <th>1</th>\n",
       "      <td>9</td>\n",
       "      <td>16</td>\n",
       "      <td>Casino</td>\n",
       "      <td>Drama</td>\n",
       "      <td>4.0</td>\n",
       "    </tr>\n",
       "    <tr>\n",
       "      <th>2</th>\n",
       "      <td>12</td>\n",
       "      <td>16</td>\n",
       "      <td>Casino</td>\n",
       "      <td>Crime</td>\n",
       "      <td>1.5</td>\n",
       "    </tr>\n",
       "    <tr>\n",
       "      <th>...</th>\n",
       "      <td>...</td>\n",
       "      <td>...</td>\n",
       "      <td>...</td>\n",
       "      <td>...</td>\n",
       "      <td>...</td>\n",
       "    </tr>\n",
       "    <tr>\n",
       "      <th>105335</th>\n",
       "      <td>668</td>\n",
       "      <td>140816</td>\n",
       "      <td>Tangerine</td>\n",
       "      <td>Comedy</td>\n",
       "      <td>2.5</td>\n",
       "    </tr>\n",
       "    <tr>\n",
       "      <th>105335</th>\n",
       "      <td>668</td>\n",
       "      <td>140816</td>\n",
       "      <td>Tangerine</td>\n",
       "      <td>Drama</td>\n",
       "      <td>2.5</td>\n",
       "    </tr>\n",
       "    <tr>\n",
       "      <th>105336</th>\n",
       "      <td>668</td>\n",
       "      <td>141472</td>\n",
       "      <td>The 50 Year Argument</td>\n",
       "      <td>(no genres listed)</td>\n",
       "      <td>2.5</td>\n",
       "    </tr>\n",
       "    <tr>\n",
       "      <th>105337</th>\n",
       "      <td>668</td>\n",
       "      <td>142488</td>\n",
       "      <td>Spotlight</td>\n",
       "      <td>Thriller</td>\n",
       "      <td>4.0</td>\n",
       "    </tr>\n",
       "    <tr>\n",
       "      <th>105338</th>\n",
       "      <td>668</td>\n",
       "      <td>142507</td>\n",
       "      <td>Pawn Sacrifice</td>\n",
       "      <td>Drama</td>\n",
       "      <td>3.5</td>\n",
       "    </tr>\n",
       "  </tbody>\n",
       "</table>\n",
       "<p>281904 rows × 5 columns</p>\n",
       "</div>"
      ],
      "text/plain": [
       "        userId  movieId           Movie_Title              genres  rating\n",
       "0            1       16                Casino               Crime     4.0\n",
       "0            1       16                Casino               Drama     4.0\n",
       "1            9       16                Casino               Crime     4.0\n",
       "1            9       16                Casino               Drama     4.0\n",
       "2           12       16                Casino               Crime     1.5\n",
       "...        ...      ...                   ...                 ...     ...\n",
       "105335     668   140816             Tangerine              Comedy     2.5\n",
       "105335     668   140816             Tangerine               Drama     2.5\n",
       "105336     668   141472  The 50 Year Argument  (no genres listed)     2.5\n",
       "105337     668   142488             Spotlight            Thriller     4.0\n",
       "105338     668   142507        Pawn Sacrifice               Drama     3.5\n",
       "\n",
       "[281904 rows x 5 columns]"
      ]
     },
     "execution_count": 27,
     "metadata": {},
     "output_type": "execute_result"
    }
   ],
   "source": [
    "#new_df\n",
    "exploded_genre = new_df.explode('genres')\n",
    "exploded_genre"
   ]
  },
  {
   "cell_type": "code",
   "execution_count": 29,
   "id": "a0fef283-51e6-40d4-bd57-bfadc08f6e78",
   "metadata": {},
   "outputs": [
    {
     "data": {
      "text/html": [
       "<div>\n",
       "<style scoped>\n",
       "    .dataframe tbody tr th:only-of-type {\n",
       "        vertical-align: middle;\n",
       "    }\n",
       "\n",
       "    .dataframe tbody tr th {\n",
       "        vertical-align: top;\n",
       "    }\n",
       "\n",
       "    .dataframe thead th {\n",
       "        text-align: right;\n",
       "    }\n",
       "</style>\n",
       "<table border=\"1\" class=\"dataframe\">\n",
       "  <thead>\n",
       "    <tr style=\"text-align: right;\">\n",
       "      <th></th>\n",
       "      <th>genres</th>\n",
       "      <th>count</th>\n",
       "    </tr>\n",
       "  </thead>\n",
       "  <tbody>\n",
       "    <tr>\n",
       "      <th>0</th>\n",
       "      <td>Drama</td>\n",
       "      <td>46960</td>\n",
       "    </tr>\n",
       "    <tr>\n",
       "      <th>1</th>\n",
       "      <td>Comedy</td>\n",
       "      <td>38055</td>\n",
       "    </tr>\n",
       "    <tr>\n",
       "      <th>2</th>\n",
       "      <td>Action</td>\n",
       "      <td>31205</td>\n",
       "    </tr>\n",
       "    <tr>\n",
       "      <th>3</th>\n",
       "      <td>Thriller</td>\n",
       "      <td>29288</td>\n",
       "    </tr>\n",
       "    <tr>\n",
       "      <th>4</th>\n",
       "      <td>Adventure</td>\n",
       "      <td>23076</td>\n",
       "    </tr>\n",
       "    <tr>\n",
       "      <th>5</th>\n",
       "      <td>Romance</td>\n",
       "      <td>19094</td>\n",
       "    </tr>\n",
       "    <tr>\n",
       "      <th>6</th>\n",
       "      <td>Crime</td>\n",
       "      <td>18291</td>\n",
       "    </tr>\n",
       "    <tr>\n",
       "      <th>7</th>\n",
       "      <td>Sci-Fi</td>\n",
       "      <td>16795</td>\n",
       "    </tr>\n",
       "    <tr>\n",
       "      <th>8</th>\n",
       "      <td>Fantasy</td>\n",
       "      <td>10889</td>\n",
       "    </tr>\n",
       "    <tr>\n",
       "      <th>9</th>\n",
       "      <td>Mystery</td>\n",
       "      <td>8320</td>\n",
       "    </tr>\n",
       "    <tr>\n",
       "      <th>10</th>\n",
       "      <td>Children</td>\n",
       "      <td>8098</td>\n",
       "    </tr>\n",
       "    <tr>\n",
       "      <th>11</th>\n",
       "      <td>Horror</td>\n",
       "      <td>7983</td>\n",
       "    </tr>\n",
       "    <tr>\n",
       "      <th>12</th>\n",
       "      <td>Animation</td>\n",
       "      <td>5966</td>\n",
       "    </tr>\n",
       "    <tr>\n",
       "      <th>13</th>\n",
       "      <td>War</td>\n",
       "      <td>5828</td>\n",
       "    </tr>\n",
       "    <tr>\n",
       "      <th>14</th>\n",
       "      <td>Musical</td>\n",
       "      <td>4287</td>\n",
       "    </tr>\n",
       "    <tr>\n",
       "      <th>15</th>\n",
       "      <td>IMAX</td>\n",
       "      <td>3032</td>\n",
       "    </tr>\n",
       "    <tr>\n",
       "      <th>16</th>\n",
       "      <td>Western</td>\n",
       "      <td>2314</td>\n",
       "    </tr>\n",
       "    <tr>\n",
       "      <th>17</th>\n",
       "      <td>Film-Noir</td>\n",
       "      <td>1210</td>\n",
       "    </tr>\n",
       "    <tr>\n",
       "      <th>18</th>\n",
       "      <td>Documentary</td>\n",
       "      <td>1206</td>\n",
       "    </tr>\n",
       "    <tr>\n",
       "      <th>19</th>\n",
       "      <td>(no genres listed)</td>\n",
       "      <td>7</td>\n",
       "    </tr>\n",
       "  </tbody>\n",
       "</table>\n",
       "</div>"
      ],
      "text/plain": [
       "                genres  count\n",
       "0                Drama  46960\n",
       "1               Comedy  38055\n",
       "2               Action  31205\n",
       "3             Thriller  29288\n",
       "4            Adventure  23076\n",
       "5              Romance  19094\n",
       "6                Crime  18291\n",
       "7               Sci-Fi  16795\n",
       "8              Fantasy  10889\n",
       "9              Mystery   8320\n",
       "10            Children   8098\n",
       "11              Horror   7983\n",
       "12           Animation   5966\n",
       "13                 War   5828\n",
       "14             Musical   4287\n",
       "15                IMAX   3032\n",
       "16             Western   2314\n",
       "17           Film-Noir   1210\n",
       "18         Documentary   1206\n",
       "19  (no genres listed)      7"
      ]
     },
     "execution_count": 29,
     "metadata": {},
     "output_type": "execute_result"
    }
   ],
   "source": [
    "genre_counts = exploded_genre['genres'].value_counts().reset_index()\n",
    "genre_counts"
   ]
  },
  {
   "cell_type": "markdown",
   "id": "38c7ee37-88ea-4d8a-a0da-750705517587",
   "metadata": {},
   "source": [
    "**Above dataframe gives the total number of movies based on genres along with unique genres considered.**"
   ]
  },
  {
   "cell_type": "code",
   "execution_count": 30,
   "id": "3e0c794b-0223-4011-b486-e84599c75fa0",
   "metadata": {},
   "outputs": [
    {
     "name": "stderr",
     "output_type": "stream",
     "text": [
      "C:\\Users\\LENOVO\\AppData\\Local\\Temp\\ipykernel_4296\\2974803992.py:1: FutureWarning: \n",
      "\n",
      "Passing `palette` without assigning `hue` is deprecated and will be removed in v0.14.0. Assign the `x` variable to `hue` and set `legend=False` for the same effect.\n",
      "\n",
      "  sns.barplot(x = 'genres', y= 'count', data = genre_counts,palette = 'bright')\n"
     ]
    },
    {
     "data": {
      "image/png": "[encoded data removed]",
      "text/plain": [
       "<Figure size 640x480 with 1 Axes>"
      ]
     },
     "metadata": {},
     "output_type": "display_data"
    }
   ],
   "source": [
    "sns.barplot(x = 'genres', y= 'count', data = genre_counts,palette = 'bright')\n",
    "plt.xticks(rotation = 90)\n",
    "plt.show()"
   ]
  },
  {
   "cell_type": "markdown",
   "id": "417e9a73-4eeb-45f6-a8c2-9b6132caaf2a",
   "metadata": {},
   "source": [
    "**Above bar plot shows the distribution of movies based on genre level.**"
   ]
  },
  {
   "cell_type": "markdown",
   "id": "6d73069e-a385-4b0e-802c-0495c1a0fdf9",
   "metadata": {},
   "source": [
    "## Popularity-Based Recommendation System at Genre Level"
   ]
  },
  {
   "cell_type": "code",
   "execution_count": null,
   "id": "41751f6c-4f62-4a0b-b12e-075e03e91f4c",
   "metadata": {},
   "outputs": [],
   "source": [
    "#df_genre = exploded_genre[exploded_genre['genres'] == 'Action']\n",
    "#df_genre"
   ]
  },
  {
   "cell_type": "markdown",
   "id": "d477b77e-442c-4483-b1af-b5b6a81de87c",
   "metadata": {},
   "source": [
    "#### For the popularity based recommendation system use the following function:"
   ]
  },
  {
   "cell_type": "code",
   "execution_count": 34,
   "id": "ac71cc2b-8480-4b21-8950-630446308cb5",
   "metadata": {},
   "outputs": [
    {
     "name": "stdin",
     "output_type": "stream",
     "text": [
      "Enter the genre of the movie:  Comedy\n",
      "Enter the number of reviews:  100\n",
      "Enter the number of recommendations for required type of movie:  6\n"
     ]
    },
    {
     "name": "stdout",
     "output_type": "stream",
     "text": [
      "Top 6 recommended movies for the Comedy genre: \n",
      "\n"
     ]
    },
    {
     "data": {
      "text/html": [
       "<div>\n",
       "<style scoped>\n",
       "    .dataframe tbody tr th:only-of-type {\n",
       "        vertical-align: middle;\n",
       "    }\n",
       "\n",
       "    .dataframe tbody tr th {\n",
       "        vertical-align: top;\n",
       "    }\n",
       "\n",
       "    .dataframe thead th {\n",
       "        text-align: right;\n",
       "    }\n",
       "</style>\n",
       "<table border=\"1\" class=\"dataframe\">\n",
       "  <thead>\n",
       "    <tr style=\"text-align: right;\">\n",
       "      <th></th>\n",
       "      <th>Movie_Title</th>\n",
       "      <th>Avg_Rating</th>\n",
       "      <th>Num_Reviews</th>\n",
       "    </tr>\n",
       "  </thead>\n",
       "  <tbody>\n",
       "    <tr>\n",
       "      <th>1</th>\n",
       "      <td>Pulp Fiction</td>\n",
       "      <td>4.160000</td>\n",
       "      <td>325</td>\n",
       "    </tr>\n",
       "    <tr>\n",
       "      <th>2</th>\n",
       "      <td>Forrest Gump</td>\n",
       "      <td>4.138264</td>\n",
       "      <td>311</td>\n",
       "    </tr>\n",
       "    <tr>\n",
       "      <th>3</th>\n",
       "      <td>Toy Story</td>\n",
       "      <td>3.907328</td>\n",
       "      <td>232</td>\n",
       "    </tr>\n",
       "    <tr>\n",
       "      <th>4</th>\n",
       "      <td>Back to the Future</td>\n",
       "      <td>3.943662</td>\n",
       "      <td>213</td>\n",
       "    </tr>\n",
       "    <tr>\n",
       "      <th>5</th>\n",
       "      <td>Fargo</td>\n",
       "      <td>4.271144</td>\n",
       "      <td>201</td>\n",
       "    </tr>\n",
       "    <tr>\n",
       "      <th>6</th>\n",
       "      <td>Aladdin</td>\n",
       "      <td>3.602094</td>\n",
       "      <td>191</td>\n",
       "    </tr>\n",
       "  </tbody>\n",
       "</table>\n",
       "</div>"
      ],
      "text/plain": [
       "          Movie_Title  Avg_Rating  Num_Reviews\n",
       "1        Pulp Fiction    4.160000          325\n",
       "2        Forrest Gump    4.138264          311\n",
       "3           Toy Story    3.907328          232\n",
       "4  Back to the Future    3.943662          213\n",
       "5               Fargo    4.271144          201\n",
       "6             Aladdin    3.602094          191"
      ]
     },
     "execution_count": 34,
     "metadata": {},
     "output_type": "execute_result"
    }
   ],
   "source": [
    "\n",
    "def popularMovieRecc(name: str, numReviews: int, numRecc: int ):\n",
    "    # Filtering the dataframe based on genre\n",
    "    exploded_genre = new_df.explode('genres')\n",
    "    df_genre = exploded_genre[exploded_genre['genres'] == name]\n",
    "    # Calculating the average rating based on genre\n",
    "    avgRating = pd.DataFrame(df_genre.groupby('Movie_Title')['rating'].mean())\n",
    "    avgRating.dropna(inplace = True)\n",
    "    avgRating.rename(columns= {'rating': 'Avg_Rating'}, inplace = True)\n",
    "    # Sorting the ratings in descending order\n",
    "    avgRating['Num_Reviews'] = pd.DataFrame(df_genre.groupby('Movie_Title')['rating'].count().sort_values(ascending = False))\n",
    "    # Calculating the popularity threshold\n",
    "    popularity_threshold = numReviews\n",
    "    popular_movie = avgRating.query('Num_Reviews >= @popularity_threshold')\n",
    "    # Sorting the values based on number of rewiews and average rating and returning the sorted dataframe\n",
    "    popular = popular_movie.sort_values(by =['Num_Reviews','Avg_Rating'],ascending = [False, False]).reset_index().head(numRecc)\n",
    "    popular.reset_index(drop=True, inplace=True)\n",
    "    popular.index += 1\n",
    "    return(popular)\n",
    "\n",
    "# Example for the popularity based recommendation system\n",
    "genre = input(\"Enter the genre of the movie: \")\n",
    "reviews = int(input(\"Enter the number of reviews: \"))\n",
    "recommendations = int(input(\"Enter the number of recommendations for required type of movie: \"))\n",
    "print(\"Top {} recommended movies for the {} genre: \\n\".format(recommendations,genre))\n",
    "\n",
    "# Sometimes the fuction might recommend less number of movies as compared to the number of recommendations passed.\n",
    "# In such times reduce the number of rewiews and see the results again, since few genres do not have a bigger threshod value.\n",
    "\n",
    "popularMovieRecc(genre,reviews,recommendations)"
   ]
  },
  {
   "cell_type": "markdown",
   "id": "a2e1448a-6396-4555-a2d7-5d60ba261347",
   "metadata": {
    "id": "JrbjVuqbDQhn"
   },
   "source": [
    "## Content Based Recommendation System"
   ]
  },
  {
   "cell_type": "code",
   "execution_count": null,
   "id": "f62187a4-f2fd-4df5-9a6a-b15d8437a018",
   "metadata": {},
   "outputs": [],
   "source": [
    "# Trying to change the genres in lower case since cosine similarity requires the genre in lower case\n",
    "\n",
    "#movieSet = new_df.drop_duplicates(subset = ['Movie_Title'])\n",
    "#movieSet\n",
    "#movieSet['genres']\n",
    "#movieSet['Genres'] = genreLowerCase\n",
    "#movieSet.drop(columns = 'genres' , inplace = True)\n",
    "#movieSet.reset_index(drop = True, inplace = True)\n",
    "#movieSet.set_index('Movie_Title', inplace =True)\n",
    "#movieSet"
   ]
  },
  {
   "cell_type": "markdown",
   "id": "4c219cc8-8fec-47a1-b022-341c95154461",
   "metadata": {},
   "source": [
    "### Use the following function for content based recommendation system: "
   ]
  },
  {
   "cell_type": "code",
   "execution_count": 36,
   "id": "ea885e45-402e-4ee2-866f-d608a0a4ce0d",
   "metadata": {},
   "outputs": [
    {
     "name": "stdin",
     "output_type": "stream",
     "text": [
      "Enter the name of the movie:  Toy Story\n",
      "Enter the number of recommendations you prefer:  7\n"
     ]
    },
    {
     "name": "stdout",
     "output_type": "stream",
     "text": [
      "Top 7 recommended movies similar to Toy Story: \n",
      "\n"
     ]
    },
    {
     "name": "stderr",
     "output_type": "stream",
     "text": [
      "C:\\Users\\LENOVO\\AppData\\Local\\Temp\\ipykernel_4296\\479161328.py:10: SettingWithCopyWarning: \n",
      "A value is trying to be set on a copy of a slice from a DataFrame.\n",
      "Try using .loc[row_indexer,col_indexer] = value instead\n",
      "\n",
      "See the caveats in the documentation: https://pandas.pydata.org/pandas-docs/stable/user_guide/indexing.html#returning-a-view-versus-a-copy\n",
      "  movieSet['Genres'] = genreLowerCase\n",
      "C:\\Users\\LENOVO\\AppData\\Local\\Temp\\ipykernel_4296\\479161328.py:11: SettingWithCopyWarning: \n",
      "A value is trying to be set on a copy of a slice from a DataFrame\n",
      "\n",
      "See the caveats in the documentation: https://pandas.pydata.org/pandas-docs/stable/user_guide/indexing.html#returning-a-view-versus-a-copy\n",
      "  movieSet.drop(columns = 'genres' , inplace = True)\n"
     ]
    },
    {
     "data": {
      "text/html": [
       "<div>\n",
       "<style scoped>\n",
       "    .dataframe tbody tr th:only-of-type {\n",
       "        vertical-align: middle;\n",
       "    }\n",
       "\n",
       "    .dataframe tbody tr th {\n",
       "        vertical-align: top;\n",
       "    }\n",
       "\n",
       "    .dataframe thead th {\n",
       "        text-align: right;\n",
       "    }\n",
       "</style>\n",
       "<table border=\"1\" class=\"dataframe\">\n",
       "  <thead>\n",
       "    <tr style=\"text-align: right;\">\n",
       "      <th></th>\n",
       "      <th>Recommended Movies</th>\n",
       "    </tr>\n",
       "  </thead>\n",
       "  <tbody>\n",
       "    <tr>\n",
       "      <th>1</th>\n",
       "      <td>Adventures of Rocky and Bullwinkle, The</td>\n",
       "    </tr>\n",
       "    <tr>\n",
       "      <th>2</th>\n",
       "      <td>Boxtrolls, The</td>\n",
       "    </tr>\n",
       "    <tr>\n",
       "      <th>3</th>\n",
       "      <td>Toy Story 2</td>\n",
       "    </tr>\n",
       "    <tr>\n",
       "      <th>4</th>\n",
       "      <td>Wild, The</td>\n",
       "    </tr>\n",
       "    <tr>\n",
       "      <th>5</th>\n",
       "      <td>Emperor's New Groove, The</td>\n",
       "    </tr>\n",
       "    <tr>\n",
       "      <th>6</th>\n",
       "      <td>DuckTales: The Movie - Treasure of the Lost Lamp</td>\n",
       "    </tr>\n",
       "    <tr>\n",
       "      <th>7</th>\n",
       "      <td>Turbo</td>\n",
       "    </tr>\n",
       "  </tbody>\n",
       "</table>\n",
       "</div>"
      ],
      "text/plain": [
       "                                 Recommended Movies\n",
       "1           Adventures of Rocky and Bullwinkle, The\n",
       "2                                    Boxtrolls, The\n",
       "3                                       Toy Story 2\n",
       "4                                         Wild, The\n",
       "5                         Emperor's New Groove, The\n",
       "6  DuckTales: The Movie - Treasure of the Lost Lamp\n",
       "7                                             Turbo"
      ]
     },
     "execution_count": 36,
     "metadata": {},
     "output_type": "execute_result"
    }
   ],
   "source": [
    "from sklearn.feature_extraction.text import CountVectorizer\n",
    "from sklearn.metrics.pairwise import cosine_similarity\n",
    "count_vect = CountVectorizer()\n",
    "\n",
    "def contentBasedRecc(name: str, recc: int):\n",
    "    # Deleting the duplicate movie titles\n",
    "    movieSet = new_df.drop_duplicates(subset = ['Movie_Title'])\n",
    "    # Converting the genre in lower case to compute the cosine based similarity\n",
    "    genreLowerCase = [' '.join(genre.lower() for genre in genres) for genres in movieSet['genres']]\n",
    "    movieSet['Genres'] = genreLowerCase\n",
    "    movieSet.drop(columns = 'genres' , inplace = True)\n",
    "    movieSet.reset_index(drop = True, inplace = True)\n",
    "    movieSet.set_index('Movie_Title', inplace =True)\n",
    "    # Checking if input movie title exists in the dataset\n",
    "    if name not in movieSet.index:\n",
    "        print(\"Movie '{}' not found in the dataset.\".format(name))\n",
    "        return None\n",
    "\n",
    "    # Filtering the genres using count vectorizer\n",
    "    movie_matrix = count_vect.fit_transform(movieSet['Genres'])\n",
    "    # Compute cosine similarity matrix\n",
    "    similarMoviesMatrix = cosine_similarity(movie_matrix,movie_matrix)\n",
    "    # Get index of input movie title\n",
    "    movieIndex = movieSet.index.get_loc(name)\n",
    "    # Find indices of similar movies\n",
    "    similarMovieIndices = similarMoviesMatrix[movieIndex].argsort()[-recc:][::-1]\n",
    "    # Get recommended movie titles\n",
    "    recommendedMovies = [movieSet.iloc[i].name for i in similarMovieIndices]\n",
    "    return pd.DataFrame(recommendedMovies, index=np.arange(1, recc+1), columns={'Recommended Movies': recommendedMovies})\n",
    "\n",
    "# Example for content based recommendation system\n",
    "movieTitle = input('Enter the name of the movie: ')\n",
    "recommendations = int(input('Enter the number of recommendations you prefer: '))\n",
    "print(\"Top {} recommended movies similar to {}: \\n\".format(recommendations, movieTitle))\n",
    "\n",
    "contentBasedRecc(movieTitle, recommendations)\n"
   ]
  },
  {
   "cell_type": "code",
   "execution_count": null,
   "id": "b3d9f5aa-f770-4708-8d2a-ff0d6ff5f0e5",
   "metadata": {},
   "outputs": [],
   "source": [
    "#movieSet.index.get_loc(\"Jurassic Park\")"
   ]
  },
  {
   "cell_type": "markdown",
   "id": "c_ptb2NVDN8B",
   "metadata": {
    "id": "c_ptb2NVDN8B"
   },
   "source": [
    "## Collaboration Based Recommendor System"
   ]
  },
  {
   "cell_type": "code",
   "execution_count": 31,
   "id": "tHn9-SKkQ7Sx",
   "metadata": {
    "colab": {
     "base_uri": "https://localhost:8080/",
     "height": 423
    },
    "id": "tHn9-SKkQ7Sx",
    "outputId": "dae8ea9b-7067-4853-d716-a96e7565a2d4"
   },
   "outputs": [
    {
     "data": {
      "text/html": [
       "<div>\n",
       "<style scoped>\n",
       "    .dataframe tbody tr th:only-of-type {\n",
       "        vertical-align: middle;\n",
       "    }\n",
       "\n",
       "    .dataframe tbody tr th {\n",
       "        vertical-align: top;\n",
       "    }\n",
       "\n",
       "    .dataframe thead th {\n",
       "        text-align: right;\n",
       "    }\n",
       "</style>\n",
       "<table border=\"1\" class=\"dataframe\">\n",
       "  <thead>\n",
       "    <tr style=\"text-align: right;\">\n",
       "      <th></th>\n",
       "      <th>userId</th>\n",
       "      <th>movieId</th>\n",
       "      <th>Movie_Title</th>\n",
       "      <th>genres</th>\n",
       "      <th>rating</th>\n",
       "    </tr>\n",
       "  </thead>\n",
       "  <tbody>\n",
       "    <tr>\n",
       "      <th>0</th>\n",
       "      <td>1</td>\n",
       "      <td>16</td>\n",
       "      <td>Casino</td>\n",
       "      <td>[Crime, Drama]</td>\n",
       "      <td>4.0</td>\n",
       "    </tr>\n",
       "    <tr>\n",
       "      <th>1</th>\n",
       "      <td>9</td>\n",
       "      <td>16</td>\n",
       "      <td>Casino</td>\n",
       "      <td>[Crime, Drama]</td>\n",
       "      <td>4.0</td>\n",
       "    </tr>\n",
       "    <tr>\n",
       "      <th>2</th>\n",
       "      <td>12</td>\n",
       "      <td>16</td>\n",
       "      <td>Casino</td>\n",
       "      <td>[Crime, Drama]</td>\n",
       "      <td>1.5</td>\n",
       "    </tr>\n",
       "    <tr>\n",
       "      <th>3</th>\n",
       "      <td>24</td>\n",
       "      <td>16</td>\n",
       "      <td>Casino</td>\n",
       "      <td>[Crime, Drama]</td>\n",
       "      <td>4.0</td>\n",
       "    </tr>\n",
       "    <tr>\n",
       "      <th>4</th>\n",
       "      <td>29</td>\n",
       "      <td>16</td>\n",
       "      <td>Casino</td>\n",
       "      <td>[Crime, Drama]</td>\n",
       "      <td>3.0</td>\n",
       "    </tr>\n",
       "    <tr>\n",
       "      <th>...</th>\n",
       "      <td>...</td>\n",
       "      <td>...</td>\n",
       "      <td>...</td>\n",
       "      <td>...</td>\n",
       "      <td>...</td>\n",
       "    </tr>\n",
       "    <tr>\n",
       "      <th>105334</th>\n",
       "      <td>668</td>\n",
       "      <td>140098</td>\n",
       "      <td>Runoff</td>\n",
       "      <td>[Drama]</td>\n",
       "      <td>2.5</td>\n",
       "    </tr>\n",
       "    <tr>\n",
       "      <th>105335</th>\n",
       "      <td>668</td>\n",
       "      <td>140816</td>\n",
       "      <td>Tangerine</td>\n",
       "      <td>[Comedy, Drama]</td>\n",
       "      <td>2.5</td>\n",
       "    </tr>\n",
       "    <tr>\n",
       "      <th>105336</th>\n",
       "      <td>668</td>\n",
       "      <td>141472</td>\n",
       "      <td>The 50 Year Argument</td>\n",
       "      <td>[(no genres listed)]</td>\n",
       "      <td>2.5</td>\n",
       "    </tr>\n",
       "    <tr>\n",
       "      <th>105337</th>\n",
       "      <td>668</td>\n",
       "      <td>142488</td>\n",
       "      <td>Spotlight</td>\n",
       "      <td>[Thriller]</td>\n",
       "      <td>4.0</td>\n",
       "    </tr>\n",
       "    <tr>\n",
       "      <th>105338</th>\n",
       "      <td>668</td>\n",
       "      <td>142507</td>\n",
       "      <td>Pawn Sacrifice</td>\n",
       "      <td>[Drama]</td>\n",
       "      <td>3.5</td>\n",
       "    </tr>\n",
       "  </tbody>\n",
       "</table>\n",
       "<p>105339 rows × 5 columns</p>\n",
       "</div>"
      ],
      "text/plain": [
       "        userId  movieId           Movie_Title                genres  rating\n",
       "0            1       16                Casino        [Crime, Drama]     4.0\n",
       "1            9       16                Casino        [Crime, Drama]     4.0\n",
       "2           12       16                Casino        [Crime, Drama]     1.5\n",
       "3           24       16                Casino        [Crime, Drama]     4.0\n",
       "4           29       16                Casino        [Crime, Drama]     3.0\n",
       "...        ...      ...                   ...                   ...     ...\n",
       "105334     668   140098                Runoff               [Drama]     2.5\n",
       "105335     668   140816             Tangerine       [Comedy, Drama]     2.5\n",
       "105336     668   141472  The 50 Year Argument  [(no genres listed)]     2.5\n",
       "105337     668   142488             Spotlight            [Thriller]     4.0\n",
       "105338     668   142507        Pawn Sacrifice               [Drama]     3.5\n",
       "\n",
       "[105339 rows x 5 columns]"
      ]
     },
     "execution_count": 31,
     "metadata": {},
     "output_type": "execute_result"
    }
   ],
   "source": [
    "new_df"
   ]
  },
  {
   "cell_type": "markdown",
   "id": "3fddc047-5526-4797-98c9-40277ae822e3",
   "metadata": {},
   "source": [
    "### Use the following function for collaboritve filtering"
   ]
  },
  {
   "cell_type": "code",
   "execution_count": 33,
   "id": "ac61bd18-0ff5-4286-a0d8-2cafe5ad9b1c",
   "metadata": {},
   "outputs": [
    {
     "name": "stdin",
     "output_type": "stream",
     "text": [
      "Enter the UserId:  5\n",
      "Enter the number of similar users to be considered:  100\n",
      "Enter the number of similar movies you wish:  6\n"
     ]
    },
    {
     "name": "stdout",
     "output_type": "stream",
     "text": [
      "Top 6 recommended movies for user 5: \n",
      "                                           0\n",
      "Movie_Title                                 \n",
      "Shawshank Redemption, The           2.053892\n",
      "Pulp Fiction                        2.023952\n",
      "Forrest Gump                        1.926647\n",
      "Silence of the Lambs, The           1.821108\n",
      "Star Wars: Episode IV - A New Hope  1.711826\n",
      "Matrix, The                         1.666168\n"
     ]
    }
   ],
   "source": [
    "def collaborativeBasedRecc(UserId: int, similarUsers: int, reccomendations: int):\n",
    "    # Creating a pivot table to calculate correlation between different users\n",
    "    movie_df =  new_df.pivot_table(index = 'Movie_Title', columns = 'userId', values = 'rating').dropna(thresh = 5, axis = 0).fillna(0)\n",
    "\n",
    "    # Calculating correlation using pearson correlation as it gives weighted cosine similarity which tends to give more acuracy than \n",
    "     # cosine similarity\n",
    "    similarity_Scores = movie_df.corr(method = 'pearson')\n",
    "\n",
    "    # Calculating weighted avearage rating \n",
    "    avg_Rating_Per_User = new_df.groupby('userId')['rating'].mean().round(2).reset_index()\n",
    "    selected_User = pd.DataFrame(similarity_Scores[UserId]).merge(avg_Rating_Per_User, on = 'userId').reset_index(drop = True)\n",
    "    weighted_Matrix = selected_User * avg_Rating_Per_User\n",
    "    weighted_Users = weighted_Matrix.drop(UserId)\n",
    "    similar_User_Ratings = movie_df[weighted_Users.reindex(similarity_Scores.index).index]\n",
    "    aggregated_Ratings = similar_User_Ratings.mean(axis=1).sort_values(ascending=False)\n",
    "   \n",
    "    # Recommend the top N movies with the highest aggregated ratings\n",
    "    top_N_Recommendations = pd.DataFrame(aggregated_Ratings.head(reccomendations))\n",
    "    \n",
    "    return top_N_Recommendations\n",
    "\n",
    "# Example for user based collaborative filtering\n",
    "id = int(input(\"Enter the UserId: \"))\n",
    "threshold = int(input(\"Enter the number of similar users to be considered: \"))\n",
    "similarMovies = int(input(\"Enter the number of similar movies you wish: \"))\n",
    "topMovies = collaborativeBasedRecc(id, threshold, similarMovies)\n",
    "\n",
    "print(\"Top {} recommended movies for user {}: \\n{}\".format(similarMovies, id, topMovies))\n",
    "\n",
    "\n",
    "\n",
    "\n",
    "\n"
   ]
  },
  {
   "cell_type": "code",
   "execution_count": null,
   "id": "ce13ed50-9b86-4137-a7a1-4b4c6537bb50",
   "metadata": {
    "id": "ce13ed50-9b86-4137-a7a1-4b4c6537bb50"
   },
   "outputs": [],
   "source": []
  },
  {
   "cell_type": "code",
   "execution_count": null,
   "id": "ac78fb21-f13f-45ff-ac06-4456aa727f29",
   "metadata": {
    "id": "ac78fb21-f13f-45ff-ac06-4456aa727f29"
   },
   "outputs": [],
   "source": []
  },
  {
   "cell_type": "code",
   "execution_count": null,
   "id": "134eff65-ca6a-4e2a-bd8c-939834861133",
   "metadata": {
    "id": "134eff65-ca6a-4e2a-bd8c-939834861133"
   },
   "outputs": [],
   "source": []
  },
  {
   "cell_type": "code",
   "execution_count": null,
   "id": "608aa273-23e6-43be-8c3e-b77f5ce14fbc",
   "metadata": {
    "id": "608aa273-23e6-43be-8c3e-b77f5ce14fbc"
   },
   "outputs": [],
   "source": []
  },
  {
   "cell_type": "code",
   "execution_count": null,
   "id": "a8173be7-f00d-48fe-ab7b-81d4ddacff42",
   "metadata": {
    "id": "a8173be7-f00d-48fe-ab7b-81d4ddacff42",
    "scrolled": true
   },
   "outputs": [],
   "source": []
  },
  {
   "cell_type": "code",
   "execution_count": null,
   "id": "4c724ea2-3779-463d-a951-ff7ba77a863a",
   "metadata": {
    "id": "4c724ea2-3779-463d-a951-ff7ba77a863a"
   },
   "outputs": [],
   "source": []
  },
  {
   "cell_type": "code",
   "execution_count": null,
   "id": "a9144fdf-f1b3-4ed3-96a5-fcb082640a31",
   "metadata": {
    "id": "a9144fdf-f1b3-4ed3-96a5-fcb082640a31"
   },
   "outputs": [],
   "source": []
  },
  {
   "cell_type": "code",
   "execution_count": null,
   "id": "89983f9f-e882-493e-92ac-48385cce4716",
   "metadata": {
    "id": "89983f9f-e882-493e-92ac-48385cce4716"
   },
   "outputs": [],
   "source": []
  }
 ],
 "metadata": {
  "colab": {
   "provenance": []
  },
  "kernelspec": {
   "display_name": "Python 3 (ipykernel)",
   "language": "python",
   "name": "python3"
  },
  "language_info": {
   "codemirror_mode": {
    "name": "ipython",
    "version": 3
   },
   "file_extension": ".py",
   "mimetype": "text/x-python",
   "name": "python",
   "nbconvert_exporter": "python",
   "pygments_lexer": "ipython3",
   "version": "3.11.5"
  }
 },
 "nbformat": 4,
 "nbformat_minor": 5
}
